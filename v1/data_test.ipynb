{
 "cells": [
  {
   "cell_type": "code",
   "execution_count": 5,
   "id": "78ff90ed-9cd4-41c8-ab87-48ca0e83f813",
   "metadata": {},
   "outputs": [],
   "source": [
    "# -*- coding: utf-8 -*-\n",
    "import pandas as pd\n",
    "import pathlib\n",
    "import numpy as np\n",
    "# from scipy.io import \n",
    "import os\n",
    "from src.ML import utils, data_gen\n",
    "# from matplotlib import pyplot as plt\n",
    "from private_modules import load_yaml_config\n",
    "from private_modules.Torch import MCFDS\n",
    "import torch.utils.data as Data"
   ]
  },
  {
   "cell_type": "code",
   "execution_count": 6,
   "id": "c9df222d-194a-4936-bdd1-50a39e689b74",
   "metadata": {},
   "outputs": [
    {
     "ename": "FileNotFoundError",
     "evalue": "[Errno 2] No such file or directory: './Database/configs/data_config.yml'",
     "output_type": "error",
     "traceback": [
      "\u001b[0;31m---------------------------------------------------------------------------\u001b[0m",
      "\u001b[0;31mFileNotFoundError\u001b[0m                         Traceback (most recent call last)",
      "Cell \u001b[0;32mIn[6], line 7\u001b[0m\n\u001b[1;32m      4\u001b[0m mat_dir \u001b[38;5;241m=\u001b[39m pathlib\u001b[38;5;241m.\u001b[39mPath(mat_dir)\n\u001b[1;32m      6\u001b[0m config_file \u001b[38;5;241m=\u001b[39m \u001b[38;5;124m'\u001b[39m\u001b[38;5;124m./Database/configs/data_config.yml\u001b[39m\u001b[38;5;124m'\u001b[39m\n\u001b[0;32m----> 7\u001b[0m config \u001b[38;5;241m=\u001b[39m load_yaml_config(config_file)\n\u001b[1;32m      9\u001b[0m data_params \u001b[38;5;241m=\u001b[39m config[\u001b[38;5;124m'\u001b[39m\u001b[38;5;124mdata\u001b[39m\u001b[38;5;124m'\u001b[39m]\n\u001b[1;32m     10\u001b[0m node_maps \u001b[38;5;241m=\u001b[39m config[\u001b[38;5;124m'\u001b[39m\u001b[38;5;124mnodes\u001b[39m\u001b[38;5;124m'\u001b[39m]\n",
      "File \u001b[0;32m~/my_py_mds/private_modules/utilities.py:678\u001b[0m, in \u001b[0;36mload_yaml_config\u001b[0;34m(file_path)\u001b[0m\n\u001b[1;32m    665\u001b[0m \u001b[38;5;250m\u001b[39m\u001b[38;5;124;03m\"\"\"\u001b[39;00m\n\u001b[1;32m    666\u001b[0m \u001b[38;5;124;03mLoad a YAML configuration file.\u001b[39;00m\n\u001b[1;32m    667\u001b[0m \n\u001b[0;32m   (...)\u001b[0m\n\u001b[1;32m    675\u001b[0m \u001b[38;5;124;03m    ``Ascend`` ``CPU`` ``GPU``\u001b[39;00m\n\u001b[1;32m    676\u001b[0m \u001b[38;5;124;03m\"\"\"\u001b[39;00m\n\u001b[1;32m    677\u001b[0m \u001b[38;5;66;03m# Read YAML experiment definition file\u001b[39;00m\n\u001b[0;32m--> 678\u001b[0m \u001b[38;5;28;01mwith\u001b[39;00m \u001b[38;5;28mopen\u001b[39m(file_path, \u001b[38;5;124m'\u001b[39m\u001b[38;5;124mr\u001b[39m\u001b[38;5;124m'\u001b[39m) \u001b[38;5;28;01mas\u001b[39;00m stream:\n\u001b[1;32m    679\u001b[0m     config \u001b[38;5;241m=\u001b[39m yaml\u001b[38;5;241m.\u001b[39msafe_load(stream)\n\u001b[1;32m    680\u001b[0m \u001b[38;5;28;01mreturn\u001b[39;00m config\n",
      "\u001b[0;31mFileNotFoundError\u001b[0m: [Errno 2] No such file or directory: './Database/configs/data_config.yml'"
     ]
    }
   ],
   "source": [
    "Database_dir = './Database'\n",
    "Database_dir = pathlib.Path(Database_dir)\n",
    "mat_dir = os.path.expandvars(\"$DATABASE_PATH/DataBase/WEST/PCS\")\n",
    "mat_dir = pathlib.Path(mat_dir)\n",
    "\n",
    "config_file = './Database/configs/data_config.yml'\n",
    "config = load_yaml_config(config_file)\n",
    "\n",
    "data_params = config['data']\n",
    "node_maps = config['nodes']\n",
    "input_nodes, output_nodes = [], []\n",
    "\n",
    "input_list = data_params['input_list']\n",
    "output_list = data_params['output_list']\n",
    "\n",
    "for nodeList_name in input_list:\n",
    "    if \"_real\" in nodeList_name:\n",
    "        dummy_list = node_maps[nodeList_name[:-5]]\n",
    "        dummy_list = [f\"{node}_3\" for node in dummy_list]\n",
    "        input_nodes.extend(dummy_list)\n",
    "    elif \"_ref\" in nodeList_name:\n",
    "        dummy_list = node_maps[nodeList_name[:-4]]\n",
    "        dummy_list = [f\"{node}_0\" for node in dummy_list]\n",
    "        input_nodes.extend(dummy_list)\n",
    "\n",
    "for nodeList_name in output_list:\n",
    "    if \"_real\" in nodeList_name:\n",
    "        dummy_list = node_maps[nodeList_name[:-5]]\n",
    "        dummy_list = [f\"{node}_3\" for node in dummy_list]\n",
    "        output_nodes.extend(dummy_list)\n",
    "    elif \"_ref\" in nodeList_name:\n",
    "        dummy_list = node_maps[nodeList_name[:-4]]\n",
    "        dummy_list = [f\"{node}_0\" for node in dummy_list]\n",
    "        output_nodes.extend(dummy_list)"
   ]
  },
  {
   "cell_type": "code",
   "execution_count": null,
   "id": "78d43a36-0f6f-4af6-8b44-cf33c2a4ee1a",
   "metadata": {},
   "outputs": [],
   "source": []
  },
  {
   "cell_type": "code",
   "execution_count": 9,
   "id": "b666d813-7065-46fd-8dac-4bbbd27c3766",
   "metadata": {},
   "outputs": [],
   "source": [
    "mat_file = \"/zhisongqu_data/chgwan/DataBase/WEST/PCS/DCS_archive_57656.mat\"\n",
    "MS_file = \"/home/chenguang.wan/Papers/DataTest/Database/Stat/node_MS.csv\"\n",
    "MS_df = pd.read_csv(MS_file, index_col=0)"
   ]
  },
  {
   "cell_type": "code",
   "execution_count": 22,
   "id": "f26c240c-a845-4243-8d8a-8cc66023eb57",
   "metadata": {},
   "outputs": [
    {
     "data": {
      "text/plain": [
       "['PowLH1_scope_3',\n",
       " 'PowLH2_scope_3',\n",
       " 'PhaLH1_scope_3',\n",
       " 'PhaLH2_scope_3',\n",
       " 'PowIC1_scope_3',\n",
       " 'PowIC2_scope_3',\n",
       " 'PowIC3_scope_3',\n",
       " 'PhaIC1_scope_3',\n",
       " 'PhaIC2_scope_3',\n",
       " 'PhaIC3_scope_3',\n",
       " 'IA_scope_3',\n",
       " 'Ip_scope_0',\n",
       " 'REF1_scope_0']"
      ]
     },
     "execution_count": 22,
     "metadata": {},
     "output_type": "execute_result"
    }
   ],
   "source": [
    "input_nodes"
   ]
  },
  {
   "cell_type": "code",
   "execution_count": 10,
   "id": "a50e953b-2017-4ad4-aa55-f413a2084e53",
   "metadata": {},
   "outputs": [],
   "source": [
    "mat_files = []\n",
    "mat_files.append(mat_file)\n",
    "\n",
    "ds = data_gen.StdWESTShotDS(\n",
    "    mat_files, \n",
    "    input_nodes=input_nodes, \n",
    "    output_nodes=output_nodes,\n",
    "    MS_df = MS_df\n",
    "    )\n"
   ]
  },
  {
   "cell_type": "code",
   "execution_count": 11,
   "id": "89c9692b-5973-4d75-b6d6-b34934ea7aa3",
   "metadata": {},
   "outputs": [],
   "source": [
    "for data in iter(ds):\n",
    "    X, Y, Y_len, Y_flags, info = data"
   ]
  },
  {
   "cell_type": "code",
   "execution_count": 15,
   "id": "14dfaa4a-c401-4bc8-b7c3-68aa6fec21e8",
   "metadata": {},
   "outputs": [
    {
     "data": {
      "text/plain": [
       "(9811, 13)"
      ]
     },
     "execution_count": 15,
     "metadata": {},
     "output_type": "execute_result"
    }
   ],
   "source": [
    "X.shape"
   ]
  },
  {
   "cell_type": "code",
   "execution_count": 24,
   "id": "75156b4b-d923-4bba-9bfb-3725b8fb5ffa",
   "metadata": {},
   "outputs": [
    {
     "data": {
      "text/plain": [
       "array([False, False, False, False, False, False, False,  True,  True,\n",
       "        True, False, False, False])"
      ]
     },
     "execution_count": 24,
     "metadata": {},
     "output_type": "execute_result"
    }
   ],
   "source": [
    "ids = np.any(np.isnan(X), axis=0)\n",
    "ids"
   ]
  },
  {
   "cell_type": "code",
   "execution_count": 21,
   "id": "421323ba-43b9-4388-af10-bfe75a371c0d",
   "metadata": {},
   "outputs": [
    {
     "data": {
      "text/plain": [
       "array(['PhaIC1_scope_3', 'PhaIC2_scope_3', 'PhaIC3_scope_3'], dtype='<U14')"
      ]
     },
     "execution_count": 21,
     "metadata": {},
     "output_type": "execute_result"
    }
   ],
   "source": [
    "np.array(input_nodes)[ids]"
   ]
  },
  {
   "cell_type": "code",
   "execution_count": 26,
   "id": "09e452d2-4e36-48ba-ac85-4669521100fb",
   "metadata": {},
   "outputs": [
    {
     "data": {
      "text/plain": [
       "[<matplotlib.lines.Line2D at 0x7efb26170a40>]"
      ]
     },
     "execution_count": 26,
     "metadata": {},
     "output_type": "execute_result"
    },
    {
     "data": {
      "image/png": "[encoded data removed]",
      "text/plain": [
       "<Figure size 640x480 with 1 Axes>"
      ]
     },
     "metadata": {},
     "output_type": "display_data"
    }
   ],
   "source": [
    "# plt.plot(X[:, -4])\n",
    "data = X[:, -4]"
   ]
  },
  {
   "cell_type": "code",
   "execution_count": 31,
   "id": "43fbb5ce-fa8e-4c3b-b5fb-94df4db9f063",
   "metadata": {},
   "outputs": [
    {
     "data": {
      "text/plain": [
       "mean     138.456801\n",
       "stDev           NaN\n",
       "Name: PhaIC3_scope_3, dtype: float64"
      ]
     },
     "execution_count": 31,
     "metadata": {},
     "output_type": "execute_result"
    }
   ],
   "source": [
    "MS_df.loc[:, 'PhaIC3_scope_3']"
   ]
  },
  {
   "cell_type": "code",
   "execution_count": 33,
   "id": "9ebc0ff7-3dc6-4991-b91b-a60f183a9494",
   "metadata": {},
   "outputs": [
    {
     "data": {
      "text/plain": [
       "IA_scope_0             0.333254\n",
       "IA_scope_3          5281.403334\n",
       "IBb_scope_0          177.022079\n",
       "IBb_scope_3          261.075895\n",
       "IDb_scope_0          381.076615\n",
       "IDb_scope_3          380.643977\n",
       "IEb_scope_0          458.263480\n",
       "IEb_scope_3          460.030104\n",
       "IFb_scope_0          323.809759\n",
       "IFb_scope_3          374.437298\n",
       "IFh_scope_0          286.477375\n",
       "IFh_scope_3          326.097710\n",
       "IEh_scope_0          418.142386\n",
       "IEh_scope_3          435.637889\n",
       "IDh_scope_0          388.680107\n",
       "IDh_scope_3          440.437177\n",
       "IBh_scope_0          408.840774\n",
       "IBh_scope_3          412.723394\n",
       "IXb_scope_0         4862.903589\n",
       "IXb_scope_3         4804.549929\n",
       "IXh_scope_0         2627.257249\n",
       "IXh_scope_3         2682.020334\n",
       "Ip_scope_0        219392.911247\n",
       "Ip_scope_3        219406.105768\n",
       "Vloop_scope_0          0.002080\n",
       "Vloop_scope_3          5.749986\n",
       "R_scope_0              1.212239\n",
       "R_scope_3              0.757914\n",
       "Z_scope_0              0.005812\n",
       "Z_scope_3              0.749431\n",
       "dXlow_scope_0          0.028698\n",
       "dXlow_scope_3          0.511684\n",
       "EROG_scope_0           0.010040\n",
       "EROG_scope_3           6.429095\n",
       "PowLH1_scope_0    913942.463183\n",
       "PowLH1_scope_3    341687.883211\n",
       "PowLH2_scope_0    679351.196117\n",
       "PowLH2_scope_3    252497.733027\n",
       "PhaLH1_scope_0        50.418731\n",
       "PhaLH1_scope_3        49.530255\n",
       "PhaLH2_scope_0        29.970271\n",
       "PhaLH2_scope_3        34.817878\n",
       "PowIC1_scope_0    119449.638980\n",
       "PowIC1_scope_3    102093.967642\n",
       "PowIC2_scope_0    135184.223372\n",
       "PowIC2_scope_3    116242.514348\n",
       "PowIC3_scope_0     45443.795222\n",
       "PowIC3_scope_3     30354.553477\n",
       "PhaIC1_scope_0              NaN\n",
       "PhaIC1_scope_3              NaN\n",
       "PhaIC2_scope_0        13.585306\n",
       "PhaIC2_scope_3              NaN\n",
       "PhaIC3_scope_0              NaN\n",
       "PhaIC3_scope_3              NaN\n",
       "REF1_scope_0           1.736254\n",
       "REF1_scope_3           1.748269\n",
       "REF2_scope_0           0.064479\n",
       "REF2_scope_3           0.045592\n",
       "REF3_scope_0           0.000000\n",
       "REF3_scope_3           0.006994\n",
       "Name: stDev, dtype: float64"
      ]
     },
     "execution_count": 33,
     "metadata": {},
     "output_type": "execute_result"
    }
   ],
   "source": [
    "MS_df.loc[\"stDev\", :]"
   ]
  },
  {
   "cell_type": "code",
   "execution_count": 27,
   "id": "7d84d31f-1e00-4877-a173-e87b7d58ade4",
   "metadata": {},
   "outputs": [
    {
     "data": {
      "text/plain": [
       "array([0., 0., 0., ..., 0., 0., 0.])"
      ]
     },
     "execution_count": 27,
     "metadata": {},
     "output_type": "execute_result"
    }
   ],
   "source": [
    "np.nan_to_num(X[:, -4])"
   ]
  },
  {
   "cell_type": "code",
   "execution_count": 48,
   "id": "68b8ef1e",
   "metadata": {},
   "outputs": [],
   "source": [
    "mat_dir = os.path.expandvars(\"$DATABASE_PATH/DataBase/WEST/PCS\")\n",
    "mat_dir = pathlib.Path(mat_dir)\n",
    "\n",
    "mat_file = mat_dir.joinpath(\"DCS_archive_58308.mat\")\n",
    "nodes = [\"Ip_scope_0\", \"Ip_scope_3\", \"Vloop_scope_3\", \"Vloop_scope_0\"]\n",
    "data_dict = utils.read_mat_file(mat_file, nodes)\n",
    "Ip_ref = data_dict['Ip_scope_0']\n",
    "Ip_real = data_dict['Ip_scope_3']\n",
    "x_axis = np.arange(len(Ip_ref))\n",
    "slopes = Ip_ref[1:] - Ip_ref[:-1]\n",
    "slopes = np.abs(slopes)"
   ]
  },
  {
   "cell_type": "code",
   "execution_count": 41,
   "id": "23119f40-6535-4b48-a8a4-7734e5c7b8e6",
   "metadata": {},
   "outputs": [],
   "source": [
    "start_idx, end_idx  = utils.get_ref_interval(mat_file)"
   ]
  },
  {
   "cell_type": "code",
   "execution_count": 42,
   "id": "03578898-6e3f-4fee-a1a6-df26112dcf02",
   "metadata": {},
   "outputs": [],
   "source": [
    "vloop = data_dict['Vloop_scope_3']"
   ]
  },
  {
   "cell_type": "code",
   "execution_count": 43,
   "id": "ae65e969-e82e-450d-8df8-942d9966f3ed",
   "metadata": {},
   "outputs": [],
   "source": [
    "vloop_ref = data_dict['Vloop_scope_0']"
   ]
  },
  {
   "cell_type": "code",
   "execution_count": 46,
   "id": "a76b69c2-de32-4391-a4cd-a4b058539858",
   "metadata": {},
   "outputs": [
    {
     "data": {
      "text/plain": [
       "(29475, 90010)"
      ]
     },
     "execution_count": 46,
     "metadata": {},
     "output_type": "execute_result"
    }
   ],
   "source": [
    "start_idx, end_idx"
   ]
  },
  {
   "cell_type": "code",
   "execution_count": 47,
   "id": "ea593f48-ed7e-4d68-b1eb-a762e5cec3e9",
   "metadata": {},
   "outputs": [
    {
     "data": {
      "text/plain": [
       "(90010,)"
      ]
     },
     "execution_count": 47,
     "metadata": {},
     "output_type": "execute_result"
    }
   ],
   "source": [
    "vloop.shape"
   ]
  },
  {
   "cell_type": "code",
   "execution_count": 49,
   "id": "5652a417-12c4-4d4a-8fd0-388e0dcc4e8f",
   "metadata": {},
   "outputs": [
    {
     "data": {
      "text/plain": [
       "[<matplotlib.lines.Line2D at 0x7efb1df37d40>]"
      ]
     },
     "execution_count": 49,
     "metadata": {},
     "output_type": "execute_result"
    },
    {
     "data": {
      "image/png": "[encoded data removed]",
      "text/plain": [
       "<Figure size 640x480 with 1 Axes>"
      ]
     },
     "metadata": {},
     "output_type": "display_data"
    }
   ],
   "source": [
    "plt.plot(Ip_real)"
   ]
  },
  {
   "cell_type": "code",
   "execution_count": 51,
   "id": "61d2d7d0-44a2-4d01-b582-bcba20cd6262",
   "metadata": {},
   "outputs": [
    {
     "data": {
      "text/plain": [
       "[<matplotlib.lines.Line2D at 0x7efb1d43ffb0>]"
      ]
     },
     "execution_count": 51,
     "metadata": {},
     "output_type": "execute_result"
    },
    {
     "data": {
      "image/png": "[encoded data removed]",
      "text/plain": [
       "<Figure size 640x480 with 1 Axes>"
      ]
     },
     "metadata": {},
     "output_type": "display_data"
    }
   ],
   "source": [
    "# plt.plot(vloop[start_idx+100:-100])\n",
    "plt.plot(vloop[start_idx+200:end_idx-100])\n",
    "# plt.plot(Ip_ref[start_idx+100:-100])"
   ]
  },
  {
   "cell_type": "code",
   "execution_count": 90,
   "id": "d24ea007-147b-4e4a-91ca-ac55004eb45d",
   "metadata": {},
   "outputs": [
    {
     "data": {
      "text/plain": [
       "29629"
      ]
     },
     "execution_count": 90,
     "metadata": {},
     "output_type": "execute_result"
    }
   ],
   "source": [
    "eps = 1e-5\n",
    "ids = Ip_ref > (1.0 + eps)\n",
    "np.min(x_axis[ids])"
   ]
  },
  {
   "cell_type": "code",
   "execution_count": 89,
   "id": "7b74db2d-ab5a-4667-85d5-0275b52ecd9f",
   "metadata": {},
   "outputs": [
    {
     "data": {
      "text/plain": [
       "1.0"
      ]
     },
     "execution_count": 89,
     "metadata": {},
     "output_type": "execute_result"
    }
   ],
   "source": [
    "Ip_ref[29628]"
   ]
  },
  {
   "cell_type": "code",
   "execution_count": 72,
   "id": "11f517a7-cb09-4e54-898c-d70b14964f02",
   "metadata": {},
   "outputs": [
    {
     "data": {
      "text/plain": [
       "<matplotlib.collections.PathCollection at 0x7fc24e93cb90>"
      ]
     },
     "execution_count": 72,
     "metadata": {},
     "output_type": "execute_result"
    },
    {
     "data": {
      "image/png": "[encoded data removed]",
      "text/plain": [
       "<Figure size 640x480 with 1 Axes>"
      ]
     },
     "metadata": {},
     "output_type": "display_data"
    }
   ],
   "source": [
    "ids = slopes == 0 \n",
    "plt.plot(x_axis[1:] ,Ip_ref[1:])\n",
    "\n",
    "np.count_nonzero(ids)\n",
    "plt.plot(x_axis[1:][ids],Ip_ref[1:][ids])\n",
    "\n",
    "slice = 30000 - 1000\n",
    "plt.scatter(x_axis[slice], Ip_ref[slice])"
   ]
  },
  {
   "cell_type": "code",
   "execution_count": 69,
   "id": "12d1b0cd-2e9f-42a2-b225-b147538cfcda",
   "metadata": {},
   "outputs": [
    {
     "data": {
      "text/plain": [
       "59001"
      ]
     },
     "execution_count": 69,
     "metadata": {},
     "output_type": "execute_result"
    }
   ],
   "source": [
    "np.count_nonzero(slopes == 0)"
   ]
  },
  {
   "cell_type": "code",
   "execution_count": 70,
   "id": "dcb7997b-cec2-486f-b38d-57d5d7b3c7e4",
   "metadata": {},
   "outputs": [
    {
     "data": {
      "text/plain": [
       "(62239,)"
      ]
     },
     "execution_count": 70,
     "metadata": {},
     "output_type": "execute_result"
    }
   ],
   "source": [
    "def find_continue(arr):\n",
    "    for i in range(len(arr)):\n",
    "        "
   ]
  },
  {
   "cell_type": "code",
   "execution_count": 80,
   "id": "3dd810d7-2e0e-4838-9841-b45734db0ba9",
   "metadata": {},
   "outputs": [
    {
     "data": {
      "text/plain": [
       "29629"
      ]
     },
     "execution_count": 80,
     "metadata": {},
     "output_type": "execute_result"
    }
   ],
   "source": [
    "ids = Ip_ref > 1.0 \n",
    "np.min(np.arange(len(ids))[ids])"
   ]
  },
  {
   "cell_type": "code",
   "execution_count": 82,
   "id": "5a74af30-9a97-4526-86c2-8083f794a402",
   "metadata": {},
   "outputs": [
    {
     "data": {
      "text/plain": [
       "1.0"
      ]
     },
     "execution_count": 82,
     "metadata": {},
     "output_type": "execute_result"
    }
   ],
   "source": [
    "Ip_ref[29628]"
   ]
  },
  {
   "cell_type": "code",
   "execution_count": 51,
   "id": "c2c8f33a-3690-4779-9159-7dd2805168b7",
   "metadata": {},
   "outputs": [
    {
     "data": {
      "text/plain": [
       "array([0.00000000e+00, 1.00000000e+00, 7.06205623e+00, 1.06889400e+02,\n",
       "       1.12492800e+02, 1.12521600e+02, 1.18125000e+02, 1.41776507e+02,\n",
       "       1.41776507e+02, 1.41776507e+02, 1.41776507e+02, 1.41776507e+02,\n",
       "       1.41776507e+02, 1.41776507e+02, 1.41776507e+02, 1.41776507e+02,\n",
       "       1.41776507e+02, 1.41776507e+02, 1.41776507e+02, 1.41776507e+02,\n",
       "       1.41776507e+02, 1.41776507e+02, 1.41776507e+02, 1.41776507e+02,\n",
       "       1.41812804e+02, 1.41812804e+02, 1.41812804e+02, 1.41812804e+02,\n",
       "       1.41812804e+02, 1.41812804e+02, 1.41812804e+02, 1.41812804e+02,\n",
       "       1.41812804e+02, 1.41812804e+02, 1.41812804e+02, 1.41812804e+02,\n",
       "       1.41812804e+02, 2.84961600e+02, 2.99980800e+02, 2.99980800e+02,\n",
       "       2.99980800e+02, 3.00057600e+02, 3.15000000e+02, 3.00037265e+03,\n",
       "       8.03843353e+04, 2.49999000e+05])"
      ]
     },
     "execution_count": 51,
     "metadata": {},
     "output_type": "execute_result"
    }
   ],
   "source": [
    "np.unique(np.abs(Ip_ref[1:] - Ip_ref[:-1])"
   ]
  },
  {
   "cell_type": "code",
   "execution_count": null,
   "id": "86d5a00e-5268-4882-9bd8-5bc8e3083d8c",
   "metadata": {},
   "outputs": [],
   "source": [
    "1 < np.abs(Ip_ref[1:] - Ip_ref[:-1]) & "
   ]
  },
  {
   "cell_type": "code",
   "execution_count": 8,
   "id": "79df3b7d",
   "metadata": {},
   "outputs": [
    {
     "data": {
      "text/plain": [
       "[<matplotlib.lines.Line2D at 0x7fc251636b70>]"
      ]
     },
     "execution_count": 8,
     "metadata": {},
     "output_type": "execute_result"
    },
    {
     "data": {
      "image/png": "[encoded data removed]",
      "text/plain": [
       "<Figure size 640x480 with 1 Axes>"
      ]
     },
     "metadata": {},
     "output_type": "display_data"
    }
   ],
   "source": [
    "Ip_ref = Ip_ref_dict['Ip_scope_0']\n",
    "Ip_act = Ip_ref_dict['Ip_scope_3']\n",
    "plt.close('all')\n",
    "plt.plot(Ip_ref)\n",
    "plt.plot(Ip_act)"
   ]
  },
  {
   "cell_type": "code",
   "execution_count": 15,
   "id": "71a4c239-420b-4d8b-982a-4b016a6e71eb",
   "metadata": {},
   "outputs": [
    {
     "data": {
      "text/plain": [
       "29644"
      ]
     },
     "execution_count": 15,
     "metadata": {},
     "output_type": "execute_result"
    }
   ],
   "source": [
    "ids = Ip_ref <= 1\n",
    "np.count_nonzero(ids)"
   ]
  },
  {
   "cell_type": "code",
   "execution_count": 27,
   "id": "bf55f50b-224d-4a15-95d6-575a19adb74e",
   "metadata": {},
   "outputs": [
    {
     "data": {
      "text/plain": [
       "15"
      ]
     },
     "execution_count": 27,
     "metadata": {},
     "output_type": "execute_result"
    }
   ],
   "source": [
    "np.count_nonzero(Ip_ref[40000:] == 1) "
   ]
  },
  {
   "cell_type": "code",
   "execution_count": 16,
   "id": "b64f26cf-0b84-463f-8f25-f51d6e4d34c6",
   "metadata": {},
   "outputs": [
    {
     "data": {
      "text/plain": [
       "(62240,)"
      ]
     },
     "execution_count": 16,
     "metadata": {},
     "output_type": "execute_result"
    }
   ],
   "source": [
    "Ip_ref.shape"
   ]
  },
  {
   "cell_type": "code",
   "execution_count": 18,
   "id": "99477a4a-e1cf-4779-a181-f0063ab6dabf",
   "metadata": {},
   "outputs": [
    {
     "data": {
      "text/plain": [
       "[<matplotlib.lines.Line2D at 0x7fc250f8ec00>]"
      ]
     },
     "execution_count": 18,
     "metadata": {},
     "output_type": "execute_result"
    },
    {
     "data": {
      "image/png": "[encoded data removed]",
      "text/plain": [
       "<Figure size 640x480 with 1 Axes>"
      ]
     },
     "metadata": {},
     "output_type": "display_data"
    }
   ],
   "source": [
    "plt.close('all')\n",
    "plt.plot(Ip_ref)\n",
    "plt.plot(Ip_ref[ids])"
   ]
  },
  {
   "cell_type": "code",
   "execution_count": 102,
   "id": "85c1836c-14de-4f1a-86a4-d660a72cab41",
   "metadata": {
    "collapsed": true,
    "jupyter": {
     "outputs_hidden": true
    }
   },
   "outputs": [
    {
     "data": {
      "text/plain": [
       "[58687,\n",
       " 58436,\n",
       " 58628,\n",
       " 58593,\n",
       " 58434,\n",
       " 58490,\n",
       " 58637,\n",
       " 58661,\n",
       " 58525,\n",
       " 58473,\n",
       " 58586,\n",
       " 58619,\n",
       " 58544,\n",
       " 58662,\n",
       " 58452,\n",
       " 58666,\n",
       " 57440,\n",
       " 58273,\n",
       " 57419,\n",
       " 57422,\n",
       " 57421,\n",
       " 58591,\n",
       " 57783,\n",
       " 58521,\n",
       " 58491,\n",
       " 58642,\n",
       " 58587,\n",
       " 58640,\n",
       " 58676,\n",
       " 58451,\n",
       " 58620,\n",
       " 58547,\n",
       " 58444,\n",
       " 58517,\n",
       " 58476,\n",
       " 58454,\n",
       " 58445,\n",
       " 58677,\n",
       " 58629,\n",
       " 58579,\n",
       " 58670,\n",
       " 58523,\n",
       " 58571,\n",
       " 58463,\n",
       " 58681,\n",
       " 58550,\n",
       " 58645,\n",
       " 58466,\n",
       " 58678,\n",
       " 58493,\n",
       " 58478,\n",
       " 58507,\n",
       " 58533,\n",
       " 58607,\n",
       " 58495,\n",
       " 58552,\n",
       " 58622,\n",
       " 58457,\n",
       " 58479,\n",
       " 58421,\n",
       " 58623,\n",
       " 58603,\n",
       " 58540,\n",
       " 58497,\n",
       " 58465,\n",
       " 58597,\n",
       " 58582,\n",
       " 58486,\n",
       " 58606,\n",
       " 58472,\n",
       " 58460,\n",
       " 58536,\n",
       " 58567,\n",
       " 58529,\n",
       " 58505,\n",
       " 58501,\n",
       " 58562,\n",
       " 58595,\n",
       " 58519,\n",
       " 58566,\n",
       " 58456,\n",
       " 58469,\n",
       " 58683,\n",
       " 58594,\n",
       " 58492,\n",
       " 58565,\n",
       " 58477,\n",
       " 58598,\n",
       " 58563,\n",
       " 58551,\n",
       " 58487,\n",
       " 58520,\n",
       " 58518,\n",
       " 58684,\n",
       " 59442]"
      ]
     },
     "execution_count": 102,
     "metadata": {},
     "output_type": "execute_result"
    }
   ],
   "source": [
    "df = pd.read_csv(\"/home/chenguang.wan/Papers/DataTest/Database/Stat/node_stat.csv\", index_col=0)\n",
    "ids = df.index[df.loc[:, \"length\"] < 1000]\n",
    "# df.loc[ids, :]\n",
    "ids.to_list()"
   ]
  },
  {
   "cell_type": "code",
   "execution_count": 11,
   "id": "5282214a-bd01-41d5-b7c9-790267be9da4",
   "metadata": {},
   "outputs": [],
   "source": [
    "keys = list(df.columns)\n",
    "sub_keys = [key for key in keys if \"length\" in key ]"
   ]
  },
  {
   "cell_type": "code",
   "execution_count": 14,
   "id": "bdc5b459-af47-4945-988e-a0a79bb9763b",
   "metadata": {},
   "outputs": [
    {
     "ename": "NameError",
     "evalue": "name 'np' is not defined",
     "output_type": "error",
     "traceback": [
      "\u001b[0;31m---------------------------------------------------------------------------\u001b[0m",
      "\u001b[0;31mNameError\u001b[0m                                 Traceback (most recent call last)",
      "\u001b[0;32m/tmp/ipykernel_207618/2515996372.py\u001b[0m in \u001b[0;36m<cell line: 1>\u001b[0;34m()\u001b[0m\n\u001b[0;32m----> 1\u001b[0;31m \u001b[0mnp\u001b[0m\u001b[0;34m.\u001b[0m\u001b[0munique\u001b[0m\u001b[0;34m(\u001b[0m\u001b[0mdf\u001b[0m\u001b[0;34m.\u001b[0m\u001b[0mloc\u001b[0m\u001b[0;34m[\u001b[0m\u001b[0;34m:\u001b[0m\u001b[0;34m,\u001b[0m \u001b[0msub_keys\u001b[0m\u001b[0;34m]\u001b[0m\u001b[0;34m)\u001b[0m\u001b[0;34m\u001b[0m\u001b[0;34m\u001b[0m\u001b[0m\n\u001b[0m",
      "\u001b[0;31mNameError\u001b[0m: name 'np' is not defined"
     ]
    }
   ],
   "source": [
    "df.loc[:, sub_keys]"
   ]
  },
  {
   "cell_type": "code",
   "execution_count": 100,
   "id": "5569ed2e-ee30-4d26-ac93-1dbb66cad814",
   "metadata": {},
   "outputs": [
    {
     "data": {
      "text/plain": [
       "(677, 301)"
      ]
     },
     "execution_count": 100,
     "metadata": {},
     "output_type": "execute_result"
    }
   ],
   "source": [
    "df.shape"
   ]
  },
  {
   "cell_type": "code",
   "execution_count": 103,
   "id": "bfc39931-869b-4494-9e13-af9e5cf47052",
   "metadata": {},
   "outputs": [],
   "source": [
    "node_MS_file = \"/home/chenguang.wan/Papers/DataTest/Database/Stat/node_MS.csv\""
   ]
  },
  {
   "cell_type": "code",
   "execution_count": 108,
   "id": "f4aef8ca-9dbe-40cd-8f9f-1604c5ebde22",
   "metadata": {},
   "outputs": [
    {
     "data": {
      "text/plain": [
       "mean      10877.602464\n",
       "stDev    116242.514348\n",
       "Name: PowIC2_scope_3, dtype: float64"
      ]
     },
     "execution_count": 108,
     "metadata": {},
     "output_type": "execute_result"
    }
   ],
   "source": [
    "df = pd.read_csv(node_MS_file, index_col=0)\n",
    "df.loc[:, 'PowIC2_scope_3']"
   ]
  },
  {
   "cell_type": "code",
   "execution_count": 35,
   "id": "4ce8ef27-c904-4a05-9f13-044c6da38f3b",
   "metadata": {},
   "outputs": [],
   "source": [
    "a = [1, 2, 3, 4]"
   ]
  },
  {
   "cell_type": "code",
   "execution_count": 36,
   "id": "67f7c786-c7ea-43a2-a8c7-747f950d3dab",
   "metadata": {},
   "outputs": [],
   "source": [
    "b = np.array([True, False, True, False])"
   ]
  },
  {
   "cell_type": "code",
   "execution_count": 38,
   "id": "40a235c8-c1a4-4d4c-b036-5d2ccf5c43a0",
   "metadata": {},
   "outputs": [
    {
     "data": {
      "text/plain": [
       "array([1, 2, 3, 4])"
      ]
     },
     "execution_count": 38,
     "metadata": {},
     "output_type": "execute_result"
    }
   ],
   "source": [
    "np.array(a)"
   ]
  },
  {
   "cell_type": "code",
   "execution_count": 3,
   "id": "198c061f-4f8e-4fff-8938-61b4030d213b",
   "metadata": {},
   "outputs": [],
   "source": [
    "mat_file = \"/zhisongqu_data/chgwan/DataBase/WEST/PCS/DCS_archive_57656.mat\"\n",
    "ms_file = \"/home/chenguang.wan/Papers/DataTest/Database/Stat/node_MS.csv\"\n",
    "stat_file = \"/home/chenguang.wan/Papers/DataTest/Database/Stat/node_stat.csv\""
   ]
  },
  {
   "cell_type": "code",
   "execution_count": 7,
   "id": "0befd06f-7c60-4d5c-a95e-5e2c1fb21108",
   "metadata": {},
   "outputs": [],
   "source": [
    "ms_df = pd.read_csv(ms_file, index_col=0)\n",
    "stat_df = pd.read_csv(stat_file, index_col=0)"
   ]
  },
  {
   "cell_type": "code",
   "execution_count": 53,
   "id": "e41fe9b2-bdb9-4fae-89f2-e9c4a2317172",
   "metadata": {},
   "outputs": [],
   "source": [
    "shot = 57604\n",
    "mat_file = f'$DATABASE_PATH/DataBase/WEST/PCS/DCS_archive_{shot}.mat'\n",
    "mat_file = os.path.expandvars(mat_file)"
   ]
  },
  {
   "cell_type": "code",
   "execution_count": 54,
   "id": "50eb8377-6dcb-4dc2-a380-efbe94400b1e",
   "metadata": {
    "collapsed": true,
    "jupyter": {
     "outputs_hidden": true
    }
   },
   "outputs": [
    {
     "data": {
      "text/plain": [
       "{'__header__': b'MATLAB 5.0 MAT-file, Platform: GLNXA64, Created on: Mon Dec  9 14:10:56 2024',\n",
       " '__version__': '1.0',\n",
       " '__globals__': [],\n",
       " 'Cu_impurity_level_event': array([[14]], dtype=uint8),\n",
       " 'EROG_bit_position': array([[13]], dtype=uint8),\n",
       " 'Fe_impurity_level_event': array([[13]], dtype=uint8),\n",
       " 'IA_bit_position': array([[0]], dtype=uint8),\n",
       " 'IBb_bit_position': array([[8]], dtype=uint8),\n",
       " 'IBh_bit_position': array([[1]], dtype=uint8),\n",
       " 'IDb_bit_position': array([[7]], dtype=uint8),\n",
       " 'IDh_bit_position': array([[2]], dtype=uint8),\n",
       " 'IEb_bit_position': array([[6]], dtype=uint8),\n",
       " 'IEh_bit_position': array([[3]], dtype=uint8),\n",
       " 'IFb_bit_position': array([[5]], dtype=uint8),\n",
       " 'IFh_bit_position': array([[4]], dtype=uint8),\n",
       " 'IXb_bit_position': array([[10]], dtype=uint8),\n",
       " 'IXh_bit_position': array([[9]], dtype=uint8),\n",
       " 'Ip_bit_position': array([[15]], dtype=uint8),\n",
       " 'LROG_bit_position': array([[30]], dtype=uint8),\n",
       " 'R0_bit_position': array([[12]], dtype=uint8),\n",
       " 'UROG_bit_position': array([[29]], dtype=uint8),\n",
       " 'VG0_bit_position': array([[16]], dtype=uint8),\n",
       " 'VG1b_bit_position': array([[24]], dtype=uint8),\n",
       " 'VG1h_bit_position': array([[17]], dtype=uint8),\n",
       " 'VG2b_bit_position': array([[23]], dtype=uint8),\n",
       " 'VG2h_bit_position': array([[18]], dtype=uint8),\n",
       " 'VG3b_bit_position': array([[22]], dtype=uint8),\n",
       " 'VG3h_bit_position': array([[19]], dtype=uint8),\n",
       " 'VG4b_bit_position': array([[21]], dtype=uint8),\n",
       " 'VG4h_bit_position': array([[20]], dtype=uint8),\n",
       " 'VGXb_bit_position': array([[26]], dtype=uint8),\n",
       " 'VGXh_bit_position': array([[25]], dtype=uint8),\n",
       " 'Za_bit_position': array([[11]], dtype=uint8),\n",
       " 'dXlow_bit_position': array([[14]], dtype=uint8),\n",
       " 'dXup_bit_position': array([[31]], dtype=uint8),\n",
       " 'dfci_error_bit_position': array([[11]], dtype=uint8),\n",
       " 'dhyb_error_bit_position': array([[10]], dtype=uint8),\n",
       " 'dintrf_error_bit_position': array([[28]], dtype=uint8),\n",
       " 'dmag_error_bit_position': array([[28]], dtype=uint8),\n",
       " 'dpolo_error_bit_position': array([[27]], dtype=uint8),\n",
       " 'dsurvie_error_bit_position': array([[12]], dtype=uint8),\n",
       " 'dwms_error_bit_position': array([[15]], dtype=uint8),\n",
       " 'fueling_error_list': array([[array(['error linked to valve 1'], dtype='<U23'),\n",
       "         array(['error linked to valve 2'], dtype='<U23'),\n",
       "         array(['error linked to valve 3'], dtype='<U23'),\n",
       "         array(['error linked to valve 4'], dtype='<U23'),\n",
       "         array(['error linked to valve 5'], dtype='<U23'),\n",
       "         array(['error linked to valve 6'], dtype='<U23'),\n",
       "         array(['error linked to valve 7'], dtype='<U23'),\n",
       "         array(['error linked to valve 8'], dtype='<U23'),\n",
       "         array(['error linked to valve 9'], dtype='<U23'),\n",
       "         array(['error linked to valve 10'], dtype='<U24'),\n",
       "         array(['error linked to valve 11'], dtype='<U24'),\n",
       "         array(['error linked to valve 12'], dtype='<U24'),\n",
       "         array(['error linked to valve 13'], dtype='<U24'),\n",
       "         array(['error linked to valve 14'], dtype='<U24'),\n",
       "         array(['error linked to valve 15'], dtype='<U24'),\n",
       "         array(['error linked to valve 16'], dtype='<U24'),\n",
       "         array(['error linked to valve 17'], dtype='<U24'),\n",
       "         array(['error linked to valve 18'], dtype='<U24'),\n",
       "         array(['error linked to valve 19'], dtype='<U24'),\n",
       "         array(['error linked to valve 20'], dtype='<U24'),\n",
       "         array(['error linked to valve 21'], dtype='<U24'),\n",
       "         array(['generic reference envelope 1 overun'], dtype='<U35'),\n",
       "         array(['generic reference envelope 2 overun'], dtype='<U35'),\n",
       "         array(['generic reference envelope 3 overun'], dtype='<U35'),\n",
       "         array(['generic flow envelope 1 overun'], dtype='<U30'),\n",
       "         array(['generic flow envelope 2 overun'], dtype='<U30'),\n",
       "         array(['generic flow envelope 3 overun'], dtype='<U30'),\n",
       "         array(['generic flow envelope 4 overun'], dtype='<U30'),\n",
       "         array(['dintrpol dolphin connection lost'], dtype='<U32')]],\n",
       "       dtype=object),\n",
       " 'generic_envelope1_bit_position': array([[24]], dtype=uint8),\n",
       " 'generic_envelope2_bit_position': array([[25]], dtype=uint8),\n",
       " 'generic_envelope3_bit_position': array([[26]], dtype=uint8),\n",
       " 'generic_envelope4_bit_position': array([[27]], dtype=uint8),\n",
       " 'heating_error_list': array([[array(['LH1 power Envelope overun'], dtype='<U25'),\n",
       "         array(['LH1 phase Envelope overun'], dtype='<U25'),\n",
       "         array(['LH2 power Envelope overun'], dtype='<U25'),\n",
       "         array(['LH2 phase Envelope overun'], dtype='<U25'),\n",
       "         array(['IC1 power Envelope overun'], dtype='<U25'),\n",
       "         array(['IC1 phase Envelope overun'], dtype='<U25'),\n",
       "         array(['IC2 power Envelope overun'], dtype='<U25'),\n",
       "         array(['IC2 phase Envelope overun'], dtype='<U25'),\n",
       "         array(['IC3 power Envelope overun'], dtype='<U25'),\n",
       "         array(['IC3 phase Envelope overun'], dtype='<U25'),\n",
       "         array(['dhyb dolphin connection lost'], dtype='<U28'),\n",
       "         array(['dfci dolphin connection lost'], dtype='<U28'),\n",
       "         array(['dsurvie dolphin connection lost'], dtype='<U31'),\n",
       "         array(['Fe high impurity level'], dtype='<U22'),\n",
       "         array(['Cu high impurity level'], dtype='<U22'),\n",
       "         array(['dwms dolphin connection lost'], dtype='<U28')]],\n",
       "       dtype=object),\n",
       " 'magnetic_error_list': array([[array(['IA Envelope overun'], dtype='<U18'),\n",
       "         array(['IBb Envelope overun'], dtype='<U19'),\n",
       "         array(['IDb Envelope overun'], dtype='<U19'),\n",
       "         array(['IEb Envelope overun'], dtype='<U19'),\n",
       "         array(['IFb Envelope overun'], dtype='<U19'),\n",
       "         array(['IFh Envelope overun'], dtype='<U19'),\n",
       "         array(['IEh Envelope overun'], dtype='<U19'),\n",
       "         array(['IDh Envelope overun'], dtype='<U19'),\n",
       "         array(['IBh Envelope overun'], dtype='<U19'),\n",
       "         array(['IXb Envelope overun'], dtype='<U19'),\n",
       "         array(['IXh Envelope overun'], dtype='<U19'),\n",
       "         array(['Z Envelope overun'], dtype='<U17'),\n",
       "         array(['R Envelope overun'], dtype='<U17'),\n",
       "         array(['EROG Envelope overun'], dtype='<U20'),\n",
       "         array(['dXlow Envelope overun'], dtype='<U21'),\n",
       "         array(['Ip Envelope overun'], dtype='<U18'),\n",
       "         array(['VG0 Envelope overun'], dtype='<U19'),\n",
       "         array(['VG1h Envelope overun'], dtype='<U20'),\n",
       "         array(['VG2h Envelope overun'], dtype='<U20'),\n",
       "         array(['VG3h Envelope overun'], dtype='<U20'),\n",
       "         array(['VG4h Envelope overun'], dtype='<U20'),\n",
       "         array(['VG4b Envelope overun'], dtype='<U20'),\n",
       "         array(['VG3b Envelope overun'], dtype='<U20'),\n",
       "         array(['VG2b Envelope overun'], dtype='<U20'),\n",
       "         array(['VG1b Envelope overun'], dtype='<U20'),\n",
       "         array(['VGXh Envelope overun'], dtype='<U20'),\n",
       "         array(['VGXb Envelope overun'], dtype='<U20'),\n",
       "         array(['dpolo dolphin connection lost'], dtype='<U29'),\n",
       "         array(['dmag dolphin connection lost'], dtype='<U28'),\n",
       "         array(['UROG Envelope overun'], dtype='<U20'),\n",
       "         array(['LROG Envelope overun'], dtype='<U20'),\n",
       "         array(['dXup Envelope overun'], dtype='<U20')]], dtype=object),\n",
       " 'phase_IC1_bit_position': array([[5]], dtype=uint8),\n",
       " 'phase_IC2_bit_position': array([[7]], dtype=uint8),\n",
       " 'phase_IC3_bit_position': array([[9]], dtype=uint8),\n",
       " 'phase_LH1_bit_position': array([[1]], dtype=uint8),\n",
       " 'phase_LH2_bit_position': array([[3]], dtype=uint8),\n",
       " 'pow_IC1_bit_position': array([[4]], dtype=uint8),\n",
       " 'pow_IC2_bit_position': array([[6]], dtype=uint8),\n",
       " 'pow_IC3_bit_position': array([[8]], dtype=uint8),\n",
       " 'pow_LH1_bit_position': array([[0]], dtype=uint8),\n",
       " 'pow_LH2_bit_position': array([[2]], dtype=uint8),\n",
       " 'ref1_bit_position': array([[21]], dtype=uint8),\n",
       " 'ref2_bit_position': array([[22]], dtype=uint8),\n",
       " 'ref3_bit_position': array([[23]], dtype=uint8),\n",
       " 'valve10_bit_position': array([[9]], dtype=uint8),\n",
       " 'valve11_bit_position': array([[10]], dtype=uint8),\n",
       " 'valve12_bit_position': array([[11]], dtype=uint8),\n",
       " 'valve13_bit_position': array([[12]], dtype=uint8),\n",
       " 'valve14_bit_position': array([[13]], dtype=uint8),\n",
       " 'valve15_bit_position': array([[14]], dtype=uint8),\n",
       " 'valve16_bit_position': array([[15]], dtype=uint8),\n",
       " 'valve17_bit_position': array([[16]], dtype=uint8),\n",
       " 'valve18_bit_position': array([[17]], dtype=uint8),\n",
       " 'valve19_bit_position': array([[18]], dtype=uint8),\n",
       " 'valve1_bit_position': array([[0]], dtype=uint8),\n",
       " 'valve20_bit_position': array([[19]], dtype=uint8),\n",
       " 'valve21_bit_position': array([[20]], dtype=uint8),\n",
       " 'valve2_bit_position': array([[1]], dtype=uint8),\n",
       " 'valve3_bit_position': array([[2]], dtype=uint8),\n",
       " 'valve4_bit_position': array([[3]], dtype=uint8),\n",
       " 'valve5_bit_position': array([[4]], dtype=uint8),\n",
       " 'valve6_bit_position': array([[5]], dtype=uint8),\n",
       " 'valve7_bit_position': array([[6]], dtype=uint8),\n",
       " 'valve8_bit_position': array([[7]], dtype=uint8),\n",
       " 'valve9_bit_position': array([[8]], dtype=uint8),\n",
       " 'nchoc': array([[57604]], dtype=uint16),\n",
       " 'output_path': array(['/gc3i_ia/NTU/'], dtype='<U13'),\n",
       " 'pulse_path': array(['/gc3i_ia/NTU//data_57604'], dtype='<U24'),\n",
       " 'tar_file_path': array(['/gc3i_ia/NTU//data_57604.tgz'], dtype='<U28'),\n",
       " 'cr': array([[0]], dtype=uint8),\n",
       " 'PulseTimeName': array(['rts:Adm/Cycle/t.val'], dtype='<U19'),\n",
       " 'suffix': array(['.LP.xml'], dtype='<U7'),\n",
       " 'signal_list': array([[array(['rts:Adm/Cycle/t.val'], dtype='<U19')],\n",
       "        [array(['rts:Adm/Discharge/Segment/t.val'], dtype='<U31')],\n",
       "        [array(['rts:Adm/Discharge/Segment/Number.cmd'], dtype='<U36')],\n",
       "        [array(['rts:WEST_PCS/TimingSystem/received_Code.val'], dtype='<U43')],\n",
       "        [array(['rts:WEST_PCS/Actuators/Poloidal/IA/scope.val'], dtype='<U44')],\n",
       "        [array(['rts:WEST_PCS/Actuators/Poloidal/IBh/scope.val'], dtype='<U45')],\n",
       "        [array(['rts:WEST_PCS/Actuators/Poloidal/IDh/scope.val'], dtype='<U45')],\n",
       "        [array(['rts:WEST_PCS/Actuators/Poloidal/IEh/scope.val'], dtype='<U45')],\n",
       "        [array(['rts:WEST_PCS/Actuators/Poloidal/IFh/scope.val'], dtype='<U45')],\n",
       "        [array(['rts:WEST_PCS/Actuators/Poloidal/IFb/scope.val'], dtype='<U45')],\n",
       "        [array(['rts:WEST_PCS/Actuators/Poloidal/IEb/scope.val'], dtype='<U45')],\n",
       "        [array(['rts:WEST_PCS/Actuators/Poloidal/IDb/scope.val'], dtype='<U45')],\n",
       "        [array(['rts:WEST_PCS/Actuators/Poloidal/IBb/scope.val'], dtype='<U45')],\n",
       "        [array(['rts:WEST_PCS/Actuators/Poloidal/IXh/scope.val'], dtype='<U45')],\n",
       "        [array(['rts:WEST_PCS/Actuators/Poloidal/IXb/scope.val'], dtype='<U45')],\n",
       "        [array(['rts:WEST_PCS/Actuators/Heating/LHCD/power/1/scope.val'],\n",
       "               dtype='<U53')                                             ],\n",
       "        [array(['rts:WEST_PCS/Actuators/Heating/LHCD/power/2/scope.val'],\n",
       "               dtype='<U53')                                             ],\n",
       "        [array(['rts:WEST_PCS/Actuators/Heating/LHCD/phase/1/scope.val'],\n",
       "               dtype='<U53')                                             ],\n",
       "        [array(['rts:WEST_PCS/Actuators/Heating/LHCD/phase/2/scope.val'],\n",
       "               dtype='<U53')                                             ],\n",
       "        [array(['rts:WEST_PCS/Actuators/Heating/ICRH/power/1/scope.val'],\n",
       "               dtype='<U53')                                             ],\n",
       "        [array(['rts:WEST_PCS/Actuators/Heating/ICRH/power/2/scope.val'],\n",
       "               dtype='<U53')                                             ],\n",
       "        [array(['rts:WEST_PCS/Actuators/Heating/ICRH/power/3/scope.val'],\n",
       "               dtype='<U53')                                             ],\n",
       "        [array(['rts:WEST_PCS/Actuators/Heating/ICRH/phase/1/scope.val'],\n",
       "               dtype='<U53')                                             ],\n",
       "        [array(['rts:WEST_PCS/Actuators/Heating/ICRH/phase/2/scope.val'],\n",
       "               dtype='<U53')                                             ],\n",
       "        [array(['rts:WEST_PCS/Actuators/Heating/ICRH/phase/3/scope.val'],\n",
       "               dtype='<U53')                                             ],\n",
       "        [array(['rts:WEST_PCS/Plasma/Ip/scope.val'], dtype='<U32')],\n",
       "        [array(['rts:WEST_PCS/Plasma/Vloop/scope.val'], dtype='<U35')],\n",
       "        [array(['rts:WEST_PCS/Plasma/Rgeo/scope.val'], dtype='<U34')],\n",
       "        [array(['rts:WEST_PCS/Plasma/Zgeo/scope.val'], dtype='<U34')],\n",
       "        [array(['rts:WEST_PCS/Plasma/dXLow/scope.val'], dtype='<U35')],\n",
       "        [array(['rts:WEST_PCS/Plasma/EROG/scope.val'], dtype='<U34')],\n",
       "        [array(['rts:WEST_PCS/Actuators/Gas/REF1/scope.val'], dtype='<U41')],\n",
       "        [array(['rts:WEST_PCS/Actuators/Gas/REF2/scope.val'], dtype='<U41')],\n",
       "        [array(['rts:WEST_PCS/Actuators/Gas/REF3/scope.val'], dtype='<U41')],\n",
       "        [array([], shape=(1, 0), dtype=float64)],\n",
       "        [array([], shape=(1, 0), dtype=float64)],\n",
       "        [array([], shape=(1, 0), dtype=float64)],\n",
       "        [array([], shape=(1, 0), dtype=float64)],\n",
       "        [array([], shape=(1, 0), dtype=float64)],\n",
       "        [array([], shape=(1, 0), dtype=float64)],\n",
       "        [array([], shape=(1, 0), dtype=float64)],\n",
       "        [array([], shape=(1, 0), dtype=float64)],\n",
       "        [array([], shape=(1, 0), dtype=float64)],\n",
       "        [array([], shape=(1, 0), dtype=float64)],\n",
       "        [array([], shape=(1, 0), dtype=float64)],\n",
       "        [array([], shape=(1, 0), dtype=float64)],\n",
       "        [array([], shape=(1, 0), dtype=float64)],\n",
       "        [array([], shape=(1, 0), dtype=float64)],\n",
       "        [array([], shape=(1, 0), dtype=float64)],\n",
       "        [array([], shape=(1, 0), dtype=float64)],\n",
       "        [array([], shape=(1, 0), dtype=float64)],\n",
       "        [array([], shape=(1, 0), dtype=float64)],\n",
       "        [array([], shape=(1, 0), dtype=float64)],\n",
       "        [array([], shape=(1, 0), dtype=float64)],\n",
       "        [array([], shape=(1, 0), dtype=float64)]], dtype=object),\n",
       " 'j': array([[34]], dtype=uint8),\n",
       " 'successUnTar': array([[2]], dtype=uint8),\n",
       " 'time_ns': array([[(array([[    1,     2,     3, ..., 44851, 44852, 44853]], dtype=uint16), array([[1.67526327e+18, 1.67526327e+18, 1.67526327e+18, ...,\n",
       "                 1.67526331e+18, 1.67526331e+18, 1.67526331e+18]]), array(['rts:Adm/Cycle/t.val'], dtype='<U19'), array([[0, 0, 0, ..., 0, 0, 0]], dtype=uint16), array([[0, 0, 0, ..., 0, 0, 3]], dtype=uint16))]],\n",
       "       dtype=[('cycle', 'O'), ('y', 'O'), ('yN', 'O'), ('cstate', 'O'), ('pstate', 'O')]),\n",
       " 'segment_time': array([[(array([[-2.00012800e-03,  0.00000000e+00,  9.99936000e-04, ...,\n",
       "                  4.48489999e+01,  4.48499999e+01,  4.48510001e+01]]), array([[(array([[0.        ],\n",
       "                        [0.001     ],\n",
       "                        [0.00300013],\n",
       "                        ...,\n",
       "                        [0.013     ],\n",
       "                        [0.01399994],\n",
       "                        [0.01499987]]), array([[1]], dtype=uint8))]],\n",
       "               dtype=[('values', 'O'), ('dimensions', 'O')]))                                       ]],\n",
       "       dtype=[('time', 'O'), ('signals', 'O')]),\n",
       " 'dt_pulse': array([[(array([[(array([[0.],\n",
       "                        [0.]], dtype=float32), array([[1]], dtype=uint8))]],\n",
       "               dtype=[('values', 'O'), ('dimensions', 'O')]), array([[0, 1]], dtype=uint8))]],\n",
       "       dtype=[('signals', 'O'), ('time', 'O')]),\n",
       " 'segment_number': array([[(array([[-2.00012800e-03,  0.00000000e+00,  9.99936000e-04, ...,\n",
       "                  4.48480000e+01,  4.48489999e+01,  4.48499999e+01]]), array([[(array([[    0],\n",
       "                        [    0],\n",
       "                        [    0],\n",
       "                        ...,\n",
       "                        [  996],\n",
       "                        [  996],\n",
       "                        [65535]], dtype=uint32), array([[1]], dtype=uint8))]],\n",
       "               dtype=[('values', 'O'), ('dimensions', 'O')]))                                  ]],\n",
       "       dtype=[('time', 'O'), ('signals', 'O')]),\n",
       " 'time_new_seg': array([[ 0.        , 24.49699994, 29.58899994, 29.61100006, 29.63500006,\n",
       "         29.83699994, 30.66899994, 30.79100006, 31.79299994, 44.67799987,\n",
       "         44.82899994, 44.83399987, 44.84899994]]),\n",
       " 'received_code': array([[(array([[-2.00012800e-03,  0.00000000e+00,  9.99936000e-04, ...,\n",
       "                  4.48489999e+01,  4.48499999e+01,  4.48510001e+01]]), array([[(array([[ 0],\n",
       "                        [ 0],\n",
       "                        [ 0],\n",
       "                        ...,\n",
       "                        [70],\n",
       "                        [ 0],\n",
       "                        [ 0]], dtype=uint32), array([[1]], dtype=uint8))]],\n",
       "               dtype=[('values', 'O'), ('dimensions', 'O')]))                               ]],\n",
       "       dtype=[('time', 'O'), ('signals', 'O')]),\n",
       " 'cycle_ignitron': array([[29591]], dtype=uint16),\n",
       " 't_ignitron': array([[29.58899994]]),\n",
       " 'IA_scope': array([[(array([[-9.99936000e-04,  0.00000000e+00,  9.99936000e-04, ...,\n",
       "                  4.48470001e+01,  4.48480000e+01,  4.48489999e+01]]), array([[(array([[     0.        ,      0.        ,      0.        ,\n",
       "                              0.        ],\n",
       "                        [     0.        ,      0.        ,      0.        ,\n",
       "                             60.040802  ],\n",
       "                        [     0.        ,      0.        ,      0.        ,\n",
       "                             60.040802  ],\n",
       "                        ...,\n",
       "                        [   -30.12516   ,      0.        ,      0.        ,\n",
       "                         -22698.73046875],\n",
       "                        [   -32.625     ,      0.        ,      0.        ,\n",
       "                         -22628.68359375],\n",
       "                        [   -35.12484   ,      0.        ,      0.        ,\n",
       "                         -22628.68359375]]), array([[4]], dtype=uint8))     ]],\n",
       "               dtype=[('values', 'O'), ('dimensions', 'O')]))                                                                             ]],\n",
       "       dtype=[('time', 'O'), ('signals', 'O')]),\n",
       " 'IBb_scope': array([[(array([[-9.99936000e-04,  0.00000000e+00,  9.99936000e-04, ...,\n",
       "                  4.48470001e+01,  4.48480000e+01,  4.48489999e+01]]), array([[(array([[   0.        ,    0.        ,    0.        ,    0.        ],\n",
       "                        [   0.        ,    0.        ,    0.        ,   13.08709908],\n",
       "                        [   0.        ,    0.        ,    0.        ,   13.08709908],\n",
       "                        ...,\n",
       "                        [   0.        ,    0.        ,    0.        , -140.75843811],\n",
       "                        [   0.        ,    0.        ,    0.        , -140.75843811],\n",
       "                        [   0.        ,    0.        ,    0.        , -140.75843811]]), array([[4]], dtype=uint8))]],\n",
       "               dtype=[('values', 'O'), ('dimensions', 'O')]))                                                                                       ]],\n",
       "       dtype=[('time', 'O'), ('signals', 'O')]),\n",
       " 'IDb_scope': array([[(array([[-9.99936000e-04,  0.00000000e+00,  9.99936000e-04, ...,\n",
       "                  4.48470001e+01,  4.48480000e+01,  4.48489999e+01]]), array([[(array([[   0.        ,    0.        ,    0.        ,    0.        ],\n",
       "                        [   0.        ,    0.        ,    0.        ,   22.17379951],\n",
       "                        [   0.        ,    0.        ,    0.        ,   23.18169975],\n",
       "                        ...,\n",
       "                        [   0.        ,    0.        ,    0.        , -620.13116455],\n",
       "                        [   0.        ,    0.        ,    0.        , -618.11541748],\n",
       "                        [   0.        ,    0.        ,    0.        , -611.06005859]]), array([[4]], dtype=uint8))]],\n",
       "               dtype=[('values', 'O'), ('dimensions', 'O')]))                                                                                       ]],\n",
       "       dtype=[('time', 'O'), ('signals', 'O')]),\n",
       " 'IEb_scope': array([[(array([[-9.99936000e-04,  0.00000000e+00,  9.99936000e-04, ...,\n",
       "                  4.48470001e+01,  4.48480000e+01,  4.48489999e+01]]), array([[(array([[   0.        ,    0.        ,    0.        ,    0.        ],\n",
       "                        [   0.        ,    0.        ,    0.        , -119.27368927],\n",
       "                        [   0.        ,    0.        ,    0.        , -119.27368927],\n",
       "                        ...,\n",
       "                        [   0.        ,    0.        ,    0.        , -863.72540283],\n",
       "                        [   0.        ,    0.        ,    0.        , -861.72088623],\n",
       "                        [   0.        ,    0.        ,    0.        , -853.70245361]]), array([[4]], dtype=uint8))]],\n",
       "               dtype=[('values', 'O'), ('dimensions', 'O')]))                                                                                       ]],\n",
       "       dtype=[('time', 'O'), ('signals', 'O')]),\n",
       " 'IFb_scope': array([[(array([[-9.99936000e-04,  0.00000000e+00,  9.99936000e-04, ...,\n",
       "                  4.48470001e+01,  4.48480000e+01,  4.48489999e+01]]), array([[(array([[   0.        ,    0.        ,    0.        ,    0.        ],\n",
       "                        [   0.        ,    0.        ,    0.        , -138.95219421],\n",
       "                        [   0.        ,    0.        ,    0.        , -137.94529724],\n",
       "                        ...,\n",
       "                        [   0.        ,    0.        ,    0.        , -597.43273926],\n",
       "                        [   0.        ,    0.        ,    0.        , -590.38439941],\n",
       "                        [   0.        ,    0.        ,    0.        , -599.4465332 ]]), array([[4]], dtype=uint8))]],\n",
       "               dtype=[('values', 'O'), ('dimensions', 'O')]))                                                                                       ]],\n",
       "       dtype=[('time', 'O'), ('signals', 'O')]),\n",
       " 'IFh_scope': array([[(array([[-9.99936000e-04,  0.00000000e+00,  9.99936000e-04, ...,\n",
       "                  4.48470001e+01,  4.48480000e+01,  4.48489999e+01]]), array([[(array([[   0.        ,    0.        ,    0.        ,    0.        ],\n",
       "                        [   0.        ,    0.        ,    0.        ,  -70.51800537],\n",
       "                        [   0.        ,    0.        ,    0.        ,  -68.50320435],\n",
       "                        ...,\n",
       "                        [   0.        ,    0.        ,    0.        , -530.91192627],\n",
       "                        [   0.        ,    0.        ,    0.        , -529.90447998],\n",
       "                        [   0.        ,    0.        ,    0.        , -528.89709473]]), array([[4]], dtype=uint8))]],\n",
       "               dtype=[('values', 'O'), ('dimensions', 'O')]))                                                                                       ]],\n",
       "       dtype=[('time', 'O'), ('signals', 'O')]),\n",
       " 'IEh_scope': array([[(array([[-9.99936000e-04,  0.00000000e+00,  9.99936000e-04, ...,\n",
       "                  4.48470001e+01,  4.48480000e+01,  4.48489999e+01]]), array([[(array([[   0.     ,    0.     ,    0.     ,    0.     ],\n",
       "                        [   0.     ,    0.     ,    0.     ,   -6.039  ],\n",
       "                        [   0.     ,    0.     ,    0.     ,   -5.0325 ],\n",
       "                        ...,\n",
       "                        [   0.     ,    0.     ,    0.     , -670.5428 ],\n",
       "                        [   0.     ,    0.     ,    0.     , -671.54926],\n",
       "                        [   0.     ,    0.     ,    0.     , -671.54926]], dtype=float32), array([[4]], dtype=uint8))]],\n",
       "               dtype=[('values', 'O'), ('dimensions', 'O')]))                                                                           ]],\n",
       "       dtype=[('time', 'O'), ('signals', 'O')]),\n",
       " 'IDh_scope': array([[(array([[-9.99936000e-04,  0.00000000e+00,  9.99936000e-04, ...,\n",
       "                  4.48470001e+01,  4.48480000e+01,  4.48489999e+01]]), array([[(array([[   0.        ,    0.        ,    0.        ,    0.        ],\n",
       "                        [   0.        ,    0.        ,    0.        ,    5.00350046],\n",
       "                        [   0.        ,    0.        ,    0.        ,    6.00420046],\n",
       "                        ...,\n",
       "                        [   0.        ,    0.        ,    0.        , -682.02618408],\n",
       "                        [   0.        ,    0.        ,    0.        , -666.01495361],\n",
       "                        [   0.        ,    0.        ,    0.        , -659.01013184]]), array([[4]], dtype=uint8))]],\n",
       "               dtype=[('values', 'O'), ('dimensions', 'O')]))                                                                                       ]],\n",
       "       dtype=[('time', 'O'), ('signals', 'O')]),\n",
       " 'IBh_scope': array([[(array([[-9.99936000e-04,  0.00000000e+00,  9.99936000e-04, ...,\n",
       "                  4.48470001e+01,  4.48480000e+01,  4.48489999e+01]]), array([[(array([[  0.        ,   0.        ,   0.        ,   0.        ],\n",
       "                        [  0.        ,   0.        ,   0.        ,   8.07680035],\n",
       "                        [  0.        ,   0.        ,   0.        ,   9.08640003],\n",
       "                        ...,\n",
       "                        [  0.        ,   0.        ,   0.        , 618.9798584 ],\n",
       "                        [  0.        ,   0.        ,   0.        , 622.00866699],\n",
       "                        [  0.        ,   0.        ,   0.        , 620.99908447]]), array([[4]], dtype=uint8))]],\n",
       "               dtype=[('values', 'O'), ('dimensions', 'O')]))                                                                                   ]],\n",
       "       dtype=[('time', 'O'), ('signals', 'O')]),\n",
       " 'IXb_scope': array([[(array([[-9.99936000e-04,  0.00000000e+00,  9.99936000e-04, ...,\n",
       "                  4.48470001e+01,  4.48480000e+01,  4.48489999e+01]]), array([[(array([[    0.        ,     0.        ,     0.        ,     0.        ],\n",
       "                        [    0.        ,     0.        ,     0.        ,  -131.00001526],\n",
       "                        [    0.        ,     0.        ,     0.        ,  -131.00001526],\n",
       "                        ...,\n",
       "                        [    0.        ,     0.        ,     0.        , 14943.11914062],\n",
       "                        [    0.        ,     0.        ,     0.        , 14634.11914062],\n",
       "                        [    0.        ,     0.        ,     0.        , 14433.11914062]]), array([[4]], dtype=uint8))]],\n",
       "               dtype=[('values', 'O'), ('dimensions', 'O')]))                                                                                           ]],\n",
       "       dtype=[('time', 'O'), ('signals', 'O')]),\n",
       " 'IXh_scope': array([[(array([[-9.99936000e-04,  0.00000000e+00,  9.99936000e-04, ...,\n",
       "                  4.48470001e+01,  4.48480000e+01,  4.48489999e+01]]), array([[(array([[   0.        ,    0.        ,    0.        ,    0.        ],\n",
       "                        [   0.        ,    0.        ,    0.        , -146.00001526],\n",
       "                        [   0.        ,    0.        ,    0.        , -142.        ],\n",
       "                        ...,\n",
       "                        [   0.        ,    0.        ,    0.        , 9633.24609375],\n",
       "                        [   0.        ,    0.        ,    0.        , 9687.24609375],\n",
       "                        [   0.        ,    0.        ,    0.        , 9757.24707031]]), array([[4]], dtype=uint8))]],\n",
       "               dtype=[('values', 'O'), ('dimensions', 'O')]))                                                                                       ]],\n",
       "       dtype=[('time', 'O'), ('signals', 'O')]),\n",
       " 'Ip_scope': array([[(array([[-9.99936000e-04,  0.00000000e+00,  9.99936000e-04, ...,\n",
       "                  4.48470001e+01,  4.48480000e+01,  4.48489999e+01]]), array([[(array([[ 0.00000000e+00,  0.00000000e+00,  0.00000000e+00,\n",
       "                          0.00000000e+00],\n",
       "                        [ 1.00000000e+00,  0.00000000e+00,  0.00000000e+00,\n",
       "                          0.00000000e+00],\n",
       "                        [ 1.00000000e+00,  0.00000000e+00,  0.00000000e+00,\n",
       "                          0.00000000e+00],\n",
       "                        ...,\n",
       "                        [ 1.00000000e+00,  1.89996671e+05,  6.67489181e+05,\n",
       "                         -1.14243263e+04],\n",
       "                        [ 1.00000000e+00,  1.89996671e+05,  6.67489181e+05,\n",
       "                         -1.15520889e+04],\n",
       "                        [ 1.00000000e+00,  1.89996671e+05,  6.67489181e+05,\n",
       "                         -1.15520889e+04]]), array([[4]], dtype=uint8))     ]],\n",
       "               dtype=[('values', 'O'), ('dimensions', 'O')]))                                                                             ]],\n",
       "       dtype=[('time', 'O'), ('signals', 'O')]),\n",
       " 'Vloop_scope': array([[(array([[-9.99936000e-04,  0.00000000e+00,  9.99936000e-04, ...,\n",
       "                  4.48470001e+01,  4.48480000e+01,  4.48489999e+01]]), array([[(array([[  0.      ,   0.      ,   0.      ,   0.      ],\n",
       "                        [  0.      ,   0.      ,   0.      ,   0.      ],\n",
       "                        [  0.      ,   0.      ,   0.      ,   0.      ],\n",
       "                        ...,\n",
       "                        [  0.      ,   0.      ,   0.      , 108.530266],\n",
       "                        [  0.      ,   0.      ,   0.      , 100.360985],\n",
       "                        [  0.      ,   0.      ,   0.      , 100.360985]], dtype=float32), array([[4]], dtype=uint8))]],\n",
       "               dtype=[('values', 'O'), ('dimensions', 'O')]))                                                                           ]],\n",
       "       dtype=[('time', 'O'), ('signals', 'O')]),\n",
       " 'R_scope': array([[(array([[-9.99936000e-04,  0.00000000e+00,  9.99936000e-04, ...,\n",
       "                  4.48470001e+01,  4.48480000e+01,  4.48489999e+01]]), array([[(array([[0., 0., 0., 0.],\n",
       "                        [0., 0., 0., 1.],\n",
       "                        [0., 0., 0., 1.],\n",
       "                        ...,\n",
       "                        [0., 0., 0., 1.],\n",
       "                        [0., 0., 0., 1.],\n",
       "                        [0., 0., 0., 1.]], dtype=float32), array([[4]], dtype=uint8))]],\n",
       "               dtype=[('values', 'O'), ('dimensions', 'O')]))                                           ]],\n",
       "       dtype=[('time', 'O'), ('signals', 'O')]),\n",
       " 'Z_scope': array([[(array([[-9.99936000e-04,  0.00000000e+00,  9.99936000e-04, ...,\n",
       "                  4.48470001e+01,  4.48480000e+01,  4.48489999e+01]]), array([[(array([[0. , 0. , 0. , 0. ],\n",
       "                        [0. , 0. , 0. , 1.5],\n",
       "                        [0. , 0. , 0. , 1.5],\n",
       "                        ...,\n",
       "                        [0. , 0. , 0. , 1.5],\n",
       "                        [0. , 0. , 0. , 1.5],\n",
       "                        [0. , 0. , 0. , 1.5]]), array([[4]], dtype=uint8))]],\n",
       "               dtype=[('values', 'O'), ('dimensions', 'O')]))                                               ]],\n",
       "       dtype=[('time', 'O'), ('signals', 'O')]),\n",
       " 'dXlow_scope': array([[(array([[-9.99936000e-04,  0.00000000e+00,  9.99936000e-04, ...,\n",
       "                  4.48470001e+01,  4.48480000e+01,  4.48489999e+01]]), array([[(array([[ 0.,  0.,  0.,  0.],\n",
       "                        [ 0.,  0.,  0., -1.],\n",
       "                        [ 0.,  0.,  0., -1.],\n",
       "                        ...,\n",
       "                        [ 0.,  0.,  0., -1.],\n",
       "                        [ 0.,  0.,  0., -1.],\n",
       "                        [ 0.,  0.,  0., -1.]]), array([[4]], dtype=uint8))]],\n",
       "               dtype=[('values', 'O'), ('dimensions', 'O')]))                                               ]],\n",
       "       dtype=[('time', 'O'), ('signals', 'O')]),\n",
       " 'EROG_scope': array([[(array([[-9.99936000e-04,  0.00000000e+00,  9.99936000e-04, ...,\n",
       "                  4.48470001e+01,  4.48480000e+01,  4.48489999e+01]]), array([[(array([[ 0.,  0.,  0.,  0.],\n",
       "                        [ 0.,  0.,  0., 13.],\n",
       "                        [ 0.,  0.,  0., 13.],\n",
       "                        ...,\n",
       "                        [ 0.,  0.,  0., 13.],\n",
       "                        [ 0.,  0.,  0., 13.],\n",
       "                        [ 0.,  0.,  0., 13.]]), array([[4]], dtype=uint8))]],\n",
       "               dtype=[('values', 'O'), ('dimensions', 'O')]))                                               ]],\n",
       "       dtype=[('time', 'O'), ('signals', 'O')]),\n",
       " 'PowLH1_scope': array([[(array([[-9.99936000e-04,  0.00000000e+00,  9.99936000e-04, ...,\n",
       "                  4.48470001e+01,  4.48480000e+01,  4.48489999e+01]]), array([[(array([[0., 0., 0., 0.],\n",
       "                        [0., 0., 0., 0.],\n",
       "                        [0., 0., 0., 0.],\n",
       "                        ...,\n",
       "                        [0., 0., 0., 0.],\n",
       "                        [0., 0., 0., 0.],\n",
       "                        [0., 0., 0., 0.]]), array([[4]], dtype=uint8))]],\n",
       "               dtype=[('values', 'O'), ('dimensions', 'O')]))                                           ]],\n",
       "       dtype=[('time', 'O'), ('signals', 'O')]),\n",
       " 'PowLH2_scope': array([[(array([[-9.99936000e-04,  0.00000000e+00,  9.99936000e-04, ...,\n",
       "                  4.48470001e+01,  4.48480000e+01,  4.48489999e+01]]), array([[(array([[0., 0., 0., 0.],\n",
       "                        [0., 0., 0., 0.],\n",
       "                        [0., 0., 0., 0.],\n",
       "                        ...,\n",
       "                        [0., 0., 0., 0.],\n",
       "                        [0., 0., 0., 0.],\n",
       "                        [0., 0., 0., 0.]]), array([[4]], dtype=uint8))]],\n",
       "               dtype=[('values', 'O'), ('dimensions', 'O')]))                                           ]],\n",
       "       dtype=[('time', 'O'), ('signals', 'O')]),\n",
       " 'PhaLH1_scope': array([[(array([[-9.99936000e-04,  0.00000000e+00,  9.99936000e-04, ...,\n",
       "                  4.48470001e+01,  4.48480000e+01,  4.48489999e+01]]), array([[(array([[0, 0, 0, 0],\n",
       "                        [0, 0, 0, 0],\n",
       "                        [0, 0, 0, 0],\n",
       "                        ...,\n",
       "                        [0, 0, 0, 0],\n",
       "                        [0, 0, 0, 0],\n",
       "                        [0, 0, 0, 0]], dtype=int16), array([[4]], dtype=uint8))]],\n",
       "               dtype=[('values', 'O'), ('dimensions', 'O')]))                                       ]],\n",
       "       dtype=[('time', 'O'), ('signals', 'O')]),\n",
       " 'PhaLH2_scope': array([[(array([[-9.99936000e-04,  0.00000000e+00,  9.99936000e-04, ...,\n",
       "                  4.48470001e+01,  4.48480000e+01,  4.48489999e+01]]), array([[(array([[  0,   0,   0,   0],\n",
       "                        [-90,   0,   0,   0],\n",
       "                        [-90,   0,   0,   0],\n",
       "                        ...,\n",
       "                        [-90,   0,   0, -90],\n",
       "                        [-90,   0,   0, -90],\n",
       "                        [-90,   0,   0, -90]], dtype=int16), array([[4]], dtype=uint8))]],\n",
       "               dtype=[('values', 'O'), ('dimensions', 'O')]))                                               ]],\n",
       "       dtype=[('time', 'O'), ('signals', 'O')]),\n",
       " 'PowIC1_scope': array([[(array([[-9.99936000e-04,  0.00000000e+00,  9.99936000e-04, ...,\n",
       "                  4.48470001e+01,  4.48480000e+01,  4.48489999e+01]]), array([[(array([[0.00000000e+00, 0.00000000e+00, 0.00000000e+00, 0.00000000e+00],\n",
       "                        [0.00000000e+00, 0.00000000e+00, 0.00000000e+00, 4.59163468e-38],\n",
       "                        [0.00000000e+00, 0.00000000e+00, 0.00000000e+00, 4.59163468e-38],\n",
       "                        ...,\n",
       "                        [0.00000000e+00, 0.00000000e+00, 0.00000000e+00, 4.59163468e-38],\n",
       "                        [0.00000000e+00, 0.00000000e+00, 0.00000000e+00, 4.59163468e-38],\n",
       "                        [0.00000000e+00, 0.00000000e+00, 0.00000000e+00, 4.59163468e-38]]), array([[4]], dtype=uint8))]],\n",
       "               dtype=[('values', 'O'), ('dimensions', 'O')]))                                                                                           ]],\n",
       "       dtype=[('time', 'O'), ('signals', 'O')]),\n",
       " 'PowIC2_scope': array([[(array([[-9.99936000e-04,  0.00000000e+00,  9.99936000e-04, ...,\n",
       "                  4.48470001e+01,  4.48480000e+01,  4.48489999e+01]]), array([[(array([[0.00000000e+00, 0.00000000e+00, 0.00000000e+00, 0.00000000e+00],\n",
       "                        [0.00000000e+00, 0.00000000e+00, 0.00000000e+00, 4.59163468e-38],\n",
       "                        [0.00000000e+00, 0.00000000e+00, 0.00000000e+00, 4.59163468e-38],\n",
       "                        ...,\n",
       "                        [0.00000000e+00, 0.00000000e+00, 0.00000000e+00, 4.59163468e-38],\n",
       "                        [0.00000000e+00, 0.00000000e+00, 0.00000000e+00, 4.59163468e-38],\n",
       "                        [0.00000000e+00, 0.00000000e+00, 0.00000000e+00, 4.59163468e-38]]), array([[4]], dtype=uint8))]],\n",
       "               dtype=[('values', 'O'), ('dimensions', 'O')]))                                                                                           ]],\n",
       "       dtype=[('time', 'O'), ('signals', 'O')]),\n",
       " 'PowIC3_scope': array([[(array([[-9.99936000e-04,  0.00000000e+00,  9.99936000e-04, ...,\n",
       "                  4.48470001e+01,  4.48480000e+01,  4.48489999e+01]]), array([[(array([[0, 0, 0, 0],\n",
       "                        [0, 0, 0, 0],\n",
       "                        [0, 0, 0, 0],\n",
       "                        ...,\n",
       "                        [0, 0, 0, 0],\n",
       "                        [0, 0, 0, 0],\n",
       "                        [0, 0, 0, 0]], dtype=uint8), array([[4]], dtype=uint8))]],\n",
       "               dtype=[('values', 'O'), ('dimensions', 'O')]))                                       ]],\n",
       "       dtype=[('time', 'O'), ('signals', 'O')]),\n",
       " 'PhaIC1_scope': array([[(array([[-9.99936000e-04,  0.00000000e+00,  9.99936000e-04, ...,\n",
       "                  4.48470001e+01,  4.48480000e+01,  4.48489999e+01]]), array([[(array([[  0,   0,   0,   0],\n",
       "                        [180,   0,   0,   0],\n",
       "                        [180,   0,   0,   0],\n",
       "                        ...,\n",
       "                        [  0,   0,   0,   0],\n",
       "                        [  0,   0,   0,   0],\n",
       "                        [  0,   0,   0,   0]], dtype=uint8), array([[4]], dtype=uint8))]],\n",
       "               dtype=[('values', 'O'), ('dimensions', 'O')]))                                               ]],\n",
       "       dtype=[('time', 'O'), ('signals', 'O')]),\n",
       " 'PhaIC2_scope': array([[(array([[-9.99936000e-04,  0.00000000e+00,  9.99936000e-04, ...,\n",
       "                  4.48470001e+01,  4.48480000e+01,  4.48489999e+01]]), array([[(array([[0.00000000e+00, 0.00000000e+00, 0.00000000e+00, 0.00000000e+00],\n",
       "                        [1.80000000e+02, 0.00000000e+00, 0.00000000e+00, 4.59163468e-41],\n",
       "                        [1.80000000e+02, 0.00000000e+00, 0.00000000e+00, 4.59163468e-41],\n",
       "                        ...,\n",
       "                        [0.00000000e+00, 0.00000000e+00, 0.00000000e+00, 4.59163468e-41],\n",
       "                        [0.00000000e+00, 0.00000000e+00, 0.00000000e+00, 4.59163468e-41],\n",
       "                        [0.00000000e+00, 0.00000000e+00, 0.00000000e+00, 4.59163468e-41]]), array([[4]], dtype=uint8))]],\n",
       "               dtype=[('values', 'O'), ('dimensions', 'O')]))                                                                                           ]],\n",
       "       dtype=[('time', 'O'), ('signals', 'O')]),\n",
       " 'PhaIC3_scope': array([[(array([[-9.99936000e-04,  0.00000000e+00,  9.99936000e-04, ...,\n",
       "                  4.48470001e+01,  4.48480000e+01,  4.48489999e+01]]), array([[(array([[0.00000000e+00, 0.00000000e+00, 0.00000000e+00, 0.00000000e+00],\n",
       "                        [1.80000000e+02, 0.00000000e+00, 0.00000000e+00, 4.59163468e-41],\n",
       "                        [1.80000000e+02, 0.00000000e+00, 0.00000000e+00, 4.59163468e-41],\n",
       "                        ...,\n",
       "                        [0.00000000e+00, 0.00000000e+00, 0.00000000e+00, 4.59163468e-41],\n",
       "                        [0.00000000e+00, 0.00000000e+00, 0.00000000e+00, 4.59163468e-41],\n",
       "                        [0.00000000e+00, 0.00000000e+00, 0.00000000e+00, 4.59163468e-41]]), array([[4]], dtype=uint8))]],\n",
       "               dtype=[('values', 'O'), ('dimensions', 'O')]))                                                                                           ]],\n",
       "       dtype=[('time', 'O'), ('signals', 'O')]),\n",
       " 'REF1_scope': array([[(array([[-9.99936000e-04,  0.00000000e+00,  9.99936000e-04, ...,\n",
       "                  4.48470001e+01,  4.48480000e+01,  4.48489999e+01]]), array([[(array([[0.        , 0.        , 0.        , 0.        ],\n",
       "                        [0.        , 0.        , 1.5       , 0.        ],\n",
       "                        [0.        , 0.        , 1.5       , 0.        ],\n",
       "                        ...,\n",
       "                        [3.6       , 0.7       , 7.        , 0.30511042],\n",
       "                        [3.6       , 0.7       , 7.        , 0.26186326],\n",
       "                        [3.6       , 0.7       , 7.        , 0.25119069]]), array([[4]], dtype=uint8))]],\n",
       "               dtype=[('values', 'O'), ('dimensions', 'O')]))                                                                           ]],\n",
       "       dtype=[('time', 'O'), ('signals', 'O')]),\n",
       " 'REF2_scope': array([[(array([[-9.99936000e-04,  0.00000000e+00,  9.99936000e-04, ...,\n",
       "                  4.48470001e+01,  4.48480000e+01,  4.48489999e+01]]), array([[(array([[0. , 0. , 0. , 0. ],\n",
       "                        [0. , 0. , 1.5, 0. ],\n",
       "                        [0. , 0. , 1.5, 0. ],\n",
       "                        ...,\n",
       "                        [0. , 0. , 1.5, 0. ],\n",
       "                        [0. , 0. , 1.5, 0. ],\n",
       "                        [0. , 0. , 1.5, 0. ]]), array([[4]], dtype=uint8))]],\n",
       "               dtype=[('values', 'O'), ('dimensions', 'O')]))                                               ]],\n",
       "       dtype=[('time', 'O'), ('signals', 'O')]),\n",
       " 'REF3_scope': array([[(array([[-9.99936000e-04,  0.00000000e+00,  9.99936000e-04, ...,\n",
       "                  4.48470001e+01,  4.48480000e+01,  4.48489999e+01]]), array([[(array([[0. , 0. , 0. , 0. ],\n",
       "                        [0. , 0. , 1.5, 0. ],\n",
       "                        [0. , 0. , 1.5, 0. ],\n",
       "                        ...,\n",
       "                        [0. , 0. , 1.5, 0. ],\n",
       "                        [0. , 0. , 1.5, 0. ],\n",
       "                        [0. , 0. , 1.5, 0. ]]), array([[4]], dtype=uint8))]],\n",
       "               dtype=[('values', 'O'), ('dimensions', 'O')]))                                               ]],\n",
       "       dtype=[('time', 'O'), ('signals', 'O')]),\n",
       " 'name_archive': array(['/gc3i_ia/NTU//DCS_archive_57604'], dtype='<U31')}"
      ]
     },
     "execution_count": 54,
     "metadata": {},
     "output_type": "execute_result"
    }
   ],
   "source": [
    "loadmat(mat_file)"
   ]
  },
  {
   "cell_type": "code",
   "execution_count": 8,
   "id": "438c6b96-588b-47c8-8210-b0d313eb6103",
   "metadata": {},
   "outputs": [
    {
     "data": {
      "text/plain": [
       "39620"
      ]
     },
     "execution_count": 8,
     "metadata": {},
     "output_type": "execute_result"
    }
   ],
   "source": [
    "stat_df.loc[57656, \"length\"]"
   ]
  },
  {
   "cell_type": "code",
   "execution_count": null,
   "id": "e008e39f-33c2-4016-bb09-23c8067b2f9e",
   "metadata": {},
   "outputs": [],
   "source": []
  }
 ],
 "metadata": {
  "kernelspec": {
   "display_name": "Python 3 (ipykernel)",
   "language": "python",
   "name": "python3"
  },
  "language_info": {
   "codemirror_mode": {
    "name": "ipython",
    "version": 3
   },
   "file_extension": ".py",
   "mimetype": "text/x-python",
   "name": "python",
   "nbconvert_exporter": "python",
   "pygments_lexer": "ipython3",
   "version": "3.12.0"
  }
 },
 "nbformat": 4,
 "nbformat_minor": 5
}
