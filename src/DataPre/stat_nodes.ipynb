{
 "cells": [
  {
   "cell_type": "code",
   "execution_count": 2,
   "metadata": {},
   "outputs": [],
   "source": [
    "import numpy as np\n",
    "from scipy.io import loadmat\n",
    "import pathlib\n",
    "import os"
   ]
  },
  {
   "cell_type": "code",
   "execution_count": 6,
   "metadata": {},
   "outputs": [
    {
     "data": {
      "text/plain": [
       "1"
      ]
     },
     "execution_count": 6,
     "metadata": {},
     "output_type": "execute_result"
    }
   ],
   "source": [
    "mat_file = '/donnees/NTU/NTU/DCS_archive_57604.mat'\n",
    "data = loadmat(mat_file)\n",
    "\n",
    "len(data['IA_scope']['time'])"
   ]
  },
  {
   "cell_type": "code",
   "execution_count": 12,
   "metadata": {},
   "outputs": [],
   "source": [
    "failed_file = '/donnees/NTU/NTU/DCS_archive_57656.mat'\n",
    "data = loadmat(failed_file)"
   ]
  },
  {
   "cell_type": "code",
   "execution_count": 13,
   "metadata": {},
   "outputs": [],
   "source": [
    "scope_keys = [key for key in data.keys() if key.endswith('_scope')]"
   ]
  },
  {
   "cell_type": "code",
   "execution_count": 19,
   "metadata": {},
   "outputs": [
    {
     "data": {
      "text/plain": [
       "(array([[-9.99936000e-04,  0.00000000e+00,  9.99936000e-04, ...,\n",
       "         3.96160000e+01,  3.96169999e+01,  3.96180001e+01]]), array([[(array([[  0.        ,   0.        ,   0.        ,   0.        ],\n",
       "               [  0.        ,   0.        ,   0.        ,  15.10049915],\n",
       "               [  0.        ,   0.        ,   0.        ,  15.10049915],\n",
       "               ...,\n",
       "               [  0.        ,   0.        ,   0.        , -33.87273026],\n",
       "               [  0.        ,   0.        ,   0.        , -46.95982742],\n",
       "               [  0.        ,   0.        ,   0.        , -46.95982742]]), array([[4]], dtype=uint8))]],\n",
       "      dtype=[('values', 'O'), ('dimensions', 'O')]))"
      ]
     },
     "execution_count": 19,
     "metadata": {},
     "output_type": "execute_result"
    }
   ],
   "source": [
    "data['IBb_scope'][0,0]"
   ]
  },
  {
   "cell_type": "code",
   "execution_count": 16,
   "metadata": {},
   "outputs": [
    {
     "data": {
      "text/plain": [
       "['IA_scope',\n",
       " 'IBb_scope',\n",
       " 'IDb_scope',\n",
       " 'IEb_scope',\n",
       " 'IFb_scope',\n",
       " 'IFh_scope',\n",
       " 'IEh_scope',\n",
       " 'IDh_scope',\n",
       " 'IBh_scope',\n",
       " 'IXb_scope',\n",
       " 'IXh_scope',\n",
       " 'Ip_scope',\n",
       " 'Vloop_scope',\n",
       " 'R_scope',\n",
       " 'Z_scope',\n",
       " 'dXlow_scope',\n",
       " 'EROG_scope',\n",
       " 'PowLH1_scope',\n",
       " 'PowLH2_scope',\n",
       " 'PhaLH1_scope',\n",
       " 'PhaLH2_scope',\n",
       " 'PowIC1_scope',\n",
       " 'PowIC2_scope',\n",
       " 'PowIC3_scope',\n",
       " 'PhaIC1_scope',\n",
       " 'PhaIC2_scope',\n",
       " 'PhaIC3_scope',\n",
       " 'REF1_scope',\n",
       " 'REF2_scope',\n",
       " 'REF3_scope']"
      ]
     },
     "execution_count": 16,
     "metadata": {},
     "output_type": "execute_result"
    }
   ],
   "source": [
    "scope_keys"
   ]
  },
  {
   "cell_type": "code",
   "execution_count": null,
   "metadata": {},
   "outputs": [],
   "source": [
    "file = '/donnees/NTU/NTU/DCS_archive_57656.mat'\n"
   ]
  },
  {
   "cell_type": "code",
   "execution_count": 18,
   "metadata": {},
   "outputs": [
    {
     "data": {
      "text/plain": [
       "1"
      ]
     },
     "execution_count": 18,
     "metadata": {},
     "output_type": "execute_result"
    }
   ],
   "source": [
    "from scipy.io import loadmat\n",
    "# failed_file = '/donnees/NTU/NTU/DCS_archive_57656.mat'\n",
    "failed_file = '/donnees/NTU/NTU/DCS_archive_58687.mat'\n",
    "data = loadmat(failed_file)\n",
    "x = data['IA_scope'][0,0]\n",
    "x['signals']['values'][0,0].shape[1]"
   ]
  },
  {
   "cell_type": "code",
   "execution_count": 7,
   "metadata": {},
   "outputs": [
    {
     "data": {
      "text/plain": [
       "'57656'"
      ]
     },
     "execution_count": 7,
     "metadata": {},
     "output_type": "execute_result"
    }
   ],
   "source": [
    "import pathlib\n",
    "a = pathlib.Path(failed_file)\n",
    "a.name[:-4].split(\"_\")[-1]"
   ]
  },
  {
   "cell_type": "code",
   "execution_count": 11,
   "metadata": {},
   "outputs": [
    {
     "ename": "ValueError",
     "evalue": "no field of name values",
     "output_type": "error",
     "traceback": [
      "\u001b[0;31m---------------------------------------------------------------------------\u001b[0m",
      "\u001b[0;31mValueError\u001b[0m                                Traceback (most recent call last)",
      "\u001b[0;32m/tmp/ipykernel_283976/2328636220.py\u001b[0m in \u001b[0;36m<cell line: 1>\u001b[0;34m()\u001b[0m\n\u001b[0;32m----> 1\u001b[0;31m \u001b[0mx\u001b[0m\u001b[0;34m[\u001b[0m\u001b[0;34m'values'\u001b[0m\u001b[0;34m]\u001b[0m\u001b[0;34m\u001b[0m\u001b[0;34m\u001b[0m\u001b[0m\n\u001b[0m",
      "\u001b[0;31mValueError\u001b[0m: no field of name values"
     ]
    }
   ],
   "source": []
  },
  {
   "cell_type": "code",
   "execution_count": null,
   "metadata": {},
   "outputs": [],
   "source": []
  }
 ],
 "metadata": {
  "kernelspec": {
   "display_name": "Python 3",
   "language": "python",
   "name": "python3"
  },
  "language_info": {
   "codemirror_mode": {
    "name": "ipython",
    "version": 3
   },
   "file_extension": ".py",
   "mimetype": "text/x-python",
   "name": "python",
   "nbconvert_exporter": "python",
   "pygments_lexer": "ipython3",
   "version": "3.9.20"
  }
 },
 "nbformat": 4,
 "nbformat_minor": 2
}
