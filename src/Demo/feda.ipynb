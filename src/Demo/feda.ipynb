{
 "cells": [
  {
   "cell_type": "code",
   "execution_count": null,
   "metadata": {
    "vscode": {
     "languageId": "plaintext"
    }
   },
   "outputs": [],
   "source": [
    "import matplotlib.pyplot as plt\n",
    "import numpy as np\n",
    "from scipy.io import loadmat\n",
    "\n",
    "def plot_all_scopes(mat_file_path):\n",
    "   \n",
    "    data = loadmat(mat_file_path)\n",
    "    scope_keys = [key for key in data.keys() if key.endswith('_scope')]\n",
    "    \n",
    "    for scope_name in scope_keys:\n",
    "        # Each scope is expected to be a struct at data[scope_name][0,0]\n",
    "        scope_struct = data[scope_name][0,0]\n",
    "        time_field = scope_struct['time'].squeeze()\n",
    "        \n",
    "        # Extract signals and values\n",
    "        signals_field = scope_struct['signals']\n",
    "        signal_values = signals_field['values'][0,0]  \n",
    "        \n",
    "       \n",
    "        num_signals = signal_values.shape[1]\n",
    "        for i in range(num_signals):\n",
    "            plt.figure()\n",
    "            plt.plot(time_field, signal_values[:, i])\n",
    "            plt.title(f'{scope_name} Signal {i}')\n",
    "            plt.xlabel('Time')\n",
    "            plt.ylabel('Signal Amplitude')\n",
    "            plt.show()\n"
   ]
  },
  {
   "cell_type": "code",
   "execution_count": null,
   "metadata": {
    "vscode": {
     "languageId": "plaintext"
    }
   },
   "outputs": [],
   "source": []
  }
 ],
 "metadata": {
  "language_info": {
   "name": "python"
  }
 },
 "nbformat": 4,
 "nbformat_minor": 2
}
